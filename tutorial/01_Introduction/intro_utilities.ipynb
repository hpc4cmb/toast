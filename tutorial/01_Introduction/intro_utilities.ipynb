{
 "cells": [
  {
   "cell_type": "markdown",
   "metadata": {
    "toc-hr-collapsed": false
   },
   "source": [
    "# Utilities\n",
    "\n",
    "In the general introduction we covered the basics of the TOAST data and processing model.  In this notebook we cover several sets of utilities that are included within TOAST that can be used when constructing new Operators or working with the data interactively.  Often these utilities make use of compiled code \"under the hood\" for performance.  For example:\n",
    "\n",
    "- `toast.rng`:  Streamed random number generation, with support for generating random samples from any location within a stream.\n",
    "\n",
    "- `toast.qarray`:  Vectorized quaternion operations.\n",
    "\n",
    "- `toast.fft`:  API Wrapper around different vendor FFT packages.\n",
    "\n",
    "- `toast.healpix`:  Subset of pixel projection routines, simd vectorized and threaded.\n",
    "\n",
    "- `toast.timing`:  Simple serial timers, global named timers per process, a decorator to time calls to functions, and MPI tools to gather timing statistics from multiple processes.\n",
    "\n",
    "First we import some packages we will use in this notebook."
   ]
  },
  {
   "cell_type": "code",
   "execution_count": null,
   "metadata": {},
   "outputs": [],
   "source": [
    "# Built-in modules\n",
    "import sys\n",
    "import os\n",
    "\n",
    "# External modules\n",
    "import numpy as np\n",
    "import matplotlib.pyplot as plt\n",
    "import astropy.units as u\n",
    "\n",
    "# TOAST\n",
    "import toast\n",
    "\n",
    "\n",
    "# Capture C++ output in the jupyter cells\n",
    "%load_ext wurlitzer\n",
    "\n",
    "# Display inline plots\n",
    "%matplotlib inline"
   ]
  },
  {
   "cell_type": "markdown",
   "metadata": {},
   "source": [
    "### Random Number Example\n",
    "\n",
    "Here is a quick example of a threaded generation of random numbers drawn from a unit-variance gaussian distribution.  Note the \"key\" pair of uint64 values and the first value of the \"counter\" pair determine the stream, and the second value of the counter pair is effectively the sample in that stream.  We can drawn randoms from anywhere in the stream in a reproducible fashion (i.e. this random generator is stateless).  Under the hood, this uses the Random123 package on each thread."
   ]
  },
  {
   "cell_type": "code",
   "execution_count": null,
   "metadata": {},
   "outputs": [],
   "source": [
    "import toast.rng as rng\n",
    "\n",
    "# Number of random samples\n",
    "nrng = 10"
   ]
  },
  {
   "cell_type": "code",
   "execution_count": null,
   "metadata": {},
   "outputs": [],
   "source": [
    "# Draw randoms from the beginning of a stream\n",
    "rng1 = rng.random(\n",
    "    nrng, key=[12, 34], counter=[56, 0], sampler=\"gaussian\", threads=True\n",
    ")"
   ]
  },
  {
   "cell_type": "code",
   "execution_count": null,
   "metadata": {},
   "outputs": [],
   "source": [
    "# Draw randoms from some later starting point in the stream\n",
    "rng2 = rng.random(\n",
    "    nrng, key=[12, 34], counter=[56, 4], sampler=\"gaussian\", threads=True\n",
    ")"
   ]
  },
  {
   "cell_type": "code",
   "execution_count": null,
   "metadata": {},
   "outputs": [],
   "source": [
    "# The returned objects are buffer providers, so can be used like a numpy array.\n",
    "print(\"Returned RNG buffers:\")\n",
    "print(rng1)\n",
    "print(rng2)"
   ]
  },
  {
   "cell_type": "code",
   "execution_count": null,
   "metadata": {},
   "outputs": [],
   "source": [
    "# Compare the elements.  Note how the overlapping sample indices match.  The\n",
    "# randoms drawn for any given sample agree regardless of the starting sample.\n",
    "print(\"------ rng1 ------\")\n",
    "for i in range(nrng):\n",
    "    print(\"rng1 {}:  {}\".format(i, rng1[i]))\n",
    "print(\"------ rng2 ------\")\n",
    "for i in range(nrng):\n",
    "    print(\"rng2 {}:  {}\".format(i + 4, rng2[i]))"
   ]
  },
  {
   "cell_type": "markdown",
   "metadata": {},
   "source": [
    "### Quaternion Array Example\n",
    "\n",
    "The quaternion manipulation functions internally attempt to improve performance using OpenMP SIMD directives and threading in cases where it makes sense.  The Python API is modelled after the quaternionarray package (https://github.com/zonca/quaternionarray/).  There are functions for common operations like multiplying quaternion arrays, rotating arrays of vectors, converting to and from angle representations, SLERP, etc."
   ]
  },
  {
   "cell_type": "code",
   "execution_count": null,
   "metadata": {},
   "outputs": [],
   "source": [
    "import toast.qarray as qa\n",
    "\n",
    "# Number points for this example\n",
    "\n",
    "nqa = 5"
   ]
  },
  {
   "cell_type": "code",
   "execution_count": null,
   "metadata": {},
   "outputs": [],
   "source": [
    "# Make some fake rotation data by sweeping through theta / phi / pa angles\n",
    "\n",
    "theta = np.linspace(0.0, np.pi, num=nqa)\n",
    "phi = np.linspace(0.0, 2 * np.pi, num=nqa)\n",
    "pa = np.zeros(nqa)\n",
    "print(\"----- input angles -----\")\n",
    "print(\"theta = \", theta)\n",
    "print(\"phi = \", phi)\n",
    "print(\"pa = \", pa)"
   ]
  },
  {
   "cell_type": "code",
   "execution_count": null,
   "metadata": {},
   "outputs": [],
   "source": [
    "# Convert to quaternions\n",
    "\n",
    "quat = qa.from_angles(theta, phi, pa)\n",
    "\n",
    "print(\"\\n----- output quaternions -----\")\n",
    "print(quat)"
   ]
  },
  {
   "cell_type": "code",
   "execution_count": null,
   "metadata": {},
   "outputs": [],
   "source": [
    "# Use these to rotate a vector\n",
    "\n",
    "zaxis = np.array([0.0, 0.0, 1.0])\n",
    "zrot = qa.rotate(quat, zaxis)\n",
    "\n",
    "print(\"\\n---- Z-axis rotated by quaternions ----\")\n",
    "print(zrot)"
   ]
  },
  {
   "cell_type": "code",
   "execution_count": null,
   "metadata": {},
   "outputs": [],
   "source": [
    "# Rotate different vector by each quaternion\n",
    "\n",
    "zout = qa.rotate(quat, zrot)\n",
    "\n",
    "print(\"\\n---- Arbitrary vectors rotated by quaternions ----\")\n",
    "print(zout)"
   ]
  },
  {
   "cell_type": "code",
   "execution_count": null,
   "metadata": {},
   "outputs": [],
   "source": [
    "# Multiply two quaternion arrays\n",
    "\n",
    "qcopy = np.array(quat)\n",
    "qout = qa.mult(quat, qcopy)\n",
    "\n",
    "print(\"\\n---- Product of two quaternion arrays ----\")\n",
    "print(qout)"
   ]
  },
  {
   "cell_type": "code",
   "execution_count": null,
   "metadata": {},
   "outputs": [],
   "source": [
    "# SLERP quaternions\n",
    "\n",
    "qtime = 3.0 * np.arange(nqa)\n",
    "qtargettime = np.arange(3.0 * (nqa - 1) + 1)\n",
    "qslerped = qa.slerp(qtargettime, qtime, quat)\n",
    "\n",
    "print(\"\\n---- SLERP input ----\")\n",
    "for t, q in zip(qtime, quat):\n",
    "    print(\"t = {} : {}\".format(t, q))\n",
    "    \n",
    "print(\"\\n---- SLERP output ----\")\n",
    "for t, q in zip(qtargettime, qslerped):\n",
    "    print(\"t = {} : {}\".format(t, q))"
   ]
  },
  {
   "cell_type": "markdown",
   "metadata": {},
   "source": [
    "### FFT Example\n",
    "\n",
    "The internal FFT functions in TOAST are very limited and focus only on batched 1D Real FFTs.  These are used for simulated noise generation and timestream filtering.  Internally the compiled code can use either FFTW or MKL for the backend calculation."
   ]
  },
  {
   "cell_type": "code",
   "execution_count": null,
   "metadata": {},
   "outputs": [],
   "source": [
    "# Number of batched FFTs\n",
    "\n",
    "nbatch = 5\n",
    "\n",
    "# FFT length\n",
    "\n",
    "nfft = 65536"
   ]
  },
  {
   "cell_type": "code",
   "execution_count": null,
   "metadata": {},
   "outputs": [],
   "source": [
    "# Create some fake data\n",
    "\n",
    "infft = np.zeros((nbatch, nfft), dtype=np.float64)\n",
    "for b in range(nbatch):\n",
    "    infft[b, :] = rng.random(nfft, key=[0, 0], counter=[b, 0], sampler=\"gaussian\")\n",
    "\n",
    "print(\"----- FFT input -----\")\n",
    "print(infft)"
   ]
  },
  {
   "cell_type": "code",
   "execution_count": null,
   "metadata": {},
   "outputs": [],
   "source": [
    "# Forward FFT\n",
    "\n",
    "outfft = toast.fft.r1d_forward(infft)\n",
    "\n",
    "print(\"\\n----- FFT output -----\")\n",
    "print(outfft)"
   ]
  },
  {
   "cell_type": "code",
   "execution_count": null,
   "metadata": {},
   "outputs": [],
   "source": [
    "# Reverse FFT\n",
    "\n",
    "backfft = toast.fft.r1d_backward(outfft)\n",
    "\n",
    "print(\"\\n----- FFT inverse output -----\")\n",
    "print(backfft)"
   ]
  }
 ],
 "metadata": {
  "kernelspec": {
   "display_name": "Python 3",
   "language": "python",
   "name": "python3"
  },
  "language_info": {
   "codemirror_mode": {
    "name": "ipython",
    "version": 3
   },
   "file_extension": ".py",
   "mimetype": "text/x-python",
   "name": "python",
   "nbconvert_exporter": "python",
   "pygments_lexer": "ipython3",
   "version": "3.8.5"
  }
 },
 "nbformat": 4,
 "nbformat_minor": 4
}
