{
 "cells": [
  {
   "cell_type": "markdown",
   "metadata": {
    "toc-hr-collapsed": false
   },
   "source": [
    "# Tutorial:  Operators\n",
    "\n",
    "This tutorial provides an overview of TOAST Operator classes, which are the primary mechanism for passing data containers through simulation and reduction operations."
   ]
  },
  {
   "cell_type": "code",
   "execution_count": null,
   "metadata": {},
   "outputs": [],
   "source": [
    "# TOAST interactive startup\n",
    "import toast.interactive\n",
    "%load_ext toast.interactive"
   ]
  },
  {
   "cell_type": "code",
   "execution_count": null,
   "metadata": {},
   "outputs": [],
   "source": [
    "%toast -p 1 -a"
   ]
  },
  {
   "cell_type": "code",
   "execution_count": null,
   "metadata": {},
   "outputs": [],
   "source": [
    "# Built-in modules\n",
    "import sys\n",
    "import os\n",
    "\n",
    "# External modules\n",
    "import numpy as np\n",
    "import matplotlib.pyplot as plt\n",
    "import astropy.units as u\n",
    "\n",
    "# TOAST\n",
    "import toast\n",
    "from toast.tests import helpers\n",
    "\n",
    "# Display inline plots\n",
    "%matplotlib inline"
   ]
  },
  {
   "cell_type": "code",
   "execution_count": null,
   "metadata": {},
   "outputs": [],
   "source": [
    "# Get our MPI world rank to use later when only one process needs to do\n",
    "# plotting, etc.\n",
    "comm, procs, rank = toast.get_world()"
   ]
  },
  {
   "cell_type": "code",
   "execution_count": null,
   "metadata": {},
   "outputs": [],
   "source": [
    "# Output directory.\n",
    "out_dir = \"workflows_output\"\n",
    "if rank == 0:\n",
    "    if not os.path.isdir(out_dir):\n",
    "        os.mkdir(out_dir)"
   ]
  },
  {
   "cell_type": "markdown",
   "metadata": {},
   "source": [
    "# Observing Schedule\n",
    "\n",
    "For a simulation, we need to create an observing schedule.\n"
   ]
  },
  {
   "cell_type": "code",
   "execution_count": null,
   "metadata": {},
   "outputs": [],
   "source": [
    "import toast.schedule_sim_ground\n",
    "\n",
    "schfile = os.path.join(out_dir, \"schedule.txt\")\n",
    "schopts = [\n",
    "    \"--equalize-area\", \"--equalize-time\", \"--site-lat\", \"-22.958064\",\n",
    "    \"--site-lon\", \"-67.786222\", \"--site-alt\", \"5200\", \"--site-name\",\n",
    "    \"ATACAMA\", \"--telescope\", \"SAT\", \"--patch-coord\", \"C\", \"--el-min\",\n",
    "    \"55\", \"--el-max\", \"70\", \"--sun-el-max\", \"90\", \"--sun-avoidance-angle\",\n",
    "    \"45\", \"--moon-avoidance-angle\", \"45\", \"--start\", \"2023-11-01 00:00:00\",\n",
    "    \"--stop\", \"2023-11-02 00:00:00\", \"--gap-s\", \"300\", \"--gap-small\", \"0\",\n",
    "    \"--ces-max-time\", \"3600\", \"--fp-radius\", \"0\", \"--out\", schfile, \n",
    "    \"--elevations-deg\", \"50,55,60,65\", \"--patch\",\n",
    "    \"DEC-050..-030_RA+000.000..+011.613,1.000,0.000,-30.000,11.613,-50.000\",\n",
    "]\n",
    "if rank == 0:\n",
    "    toast.schedule_sim_ground.run_scheduler(opts=schopts)\n",
    "if comm is not None:\n",
    "    comm.barrier()"
   ]
  },
  {
   "cell_type": "code",
   "execution_count": null,
   "metadata": {},
   "outputs": [],
   "source": [
    "# Interactive timestream plotting.  Only if we are running\n",
    "# with one process.\n",
    "# if procs == 1:\n",
    "#     w = toast.widgets.ObservationWidget(data.obs[0])"
   ]
  },
  {
   "cell_type": "code",
   "execution_count": null,
   "metadata": {},
   "outputs": [],
   "source": []
  }
 ],
 "metadata": {
  "kernelspec": {
   "display_name": "Python 3 (ipykernel)",
   "language": "python",
   "name": "python3"
  },
  "language_info": {
   "codemirror_mode": {
    "name": "ipython",
    "version": 3
   },
   "file_extension": ".py",
   "mimetype": "text/x-python",
   "name": "python",
   "nbconvert_exporter": "python",
   "pygments_lexer": "ipython3",
   "version": "3.12.9"
  }
 },
 "nbformat": 4,
 "nbformat_minor": 4
}
