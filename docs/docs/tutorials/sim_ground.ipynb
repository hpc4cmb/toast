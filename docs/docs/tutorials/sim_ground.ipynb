{
 "cells": [
  {
   "cell_type": "markdown",
   "metadata": {
    "toc-hr-collapsed": false
   },
   "source": [
    "# Tutorial: Simulated Ground Telescopes\n",
    "\n",
    "This tutorial focuses on simulating data from a ground-based telescope.  We first create a fake telescope with a synthetic focalplane located in Chile.  Then we create a synthetic observing schedule and use that to scan the sky "
   ]
  },
  {
   "cell_type": "code",
   "execution_count": null,
   "metadata": {},
   "outputs": [],
   "source": [
    "# TOAST interactive startup\n",
    "import toast.interactive as tint\n",
    "import toast.interactive.magic\n",
    "%load_ext toast.interactive.magic"
   ]
  },
  {
   "cell_type": "code",
   "execution_count": null,
   "metadata": {},
   "outputs": [],
   "source": [
    "%toast -p 1 -a"
   ]
  },
  {
   "cell_type": "code",
   "execution_count": null,
   "metadata": {},
   "outputs": [],
   "source": [
    "# Built-in modules\n",
    "import sys\n",
    "import os\n",
    "import datetime\n",
    "\n",
    "# External modules\n",
    "import numpy as np\n",
    "import matplotlib.pyplot as plt\n",
    "import astropy.units as u\n",
    "\n",
    "# TOAST\n",
    "import toast\n",
    "from toast.instrument_sim import plot_focalplane\n",
    "\n",
    "# Display inline plots\n",
    "%matplotlib inline"
   ]
  },
  {
   "cell_type": "code",
   "execution_count": null,
   "metadata": {},
   "outputs": [],
   "source": [
    "# MPI communicator\n",
    "world, procs, rank = toast.mpi.get_world()\n",
    "comm = tint.create_comm(world, single_group=True)"
   ]
  },
  {
   "cell_type": "code",
   "execution_count": null,
   "metadata": {},
   "outputs": [],
   "source": [
    "# Output directory\n",
    "out_dir = tint.create_outdir(world, topdir=\"out_sim_ground\")"
   ]
  },
  {
   "cell_type": "markdown",
   "metadata": {},
   "source": [
    "# Fake Telescope"
   ]
  },
  {
   "cell_type": "code",
   "execution_count": null,
   "metadata": {},
   "outputs": [],
   "source": [
    "field_of_view = 5.0 * u.degree"
   ]
  },
  {
   "cell_type": "code",
   "execution_count": null,
   "metadata": {},
   "outputs": [],
   "source": [
    "telescope = tint.create_ground_telescope(\n",
    "    comm.group_size,\n",
    "    pixel_per_process=7,\n",
    "    sample_rate=10.0 * u.Hz,\n",
    "    width=field_of_view,\n",
    ")\n",
    "focalplane = telescope.focalplane"
   ]
  },
  {
   "cell_type": "code",
   "execution_count": null,
   "metadata": {},
   "outputs": [],
   "source": [
    "# Make a plot of this focalplane layout.\n",
    "\n",
    "detpolcol = {\n",
    "    x: \"red\" if x.endswith(\"A\") else \"blue\" for x in focalplane.detectors\n",
    "}\n",
    "\n",
    "plot_focalplane(\n",
    "    focalplane=focalplane,\n",
    "    width=1.3 * field_of_view,\n",
    "    height=1.3 * field_of_view,\n",
    "    show_labels=True,\n",
    "    pol_color=detpolcol\n",
    ")"
   ]
  },
  {
   "cell_type": "markdown",
   "metadata": {},
   "source": [
    "# Simulated Observing Schedule\n"
   ]
  },
  {
   "cell_type": "code",
   "execution_count": null,
   "metadata": {},
   "outputs": [],
   "source": [
    "schedule = None\n",
    "\n",
    "if rank == 0:\n",
    "    tdir = out_dir\n",
    "    if tdir is None:\n",
    "        tdir = tempfile.mkdtemp()\n",
    "\n",
    "    sch_file = os.path.join(tdir, \"ground_schedule.txt\")\n",
    "    toast.schedule_sim_ground.run_scheduler(\n",
    "        opts=[\n",
    "            \"--site-name\",\n",
    "            telescope.site.name,\n",
    "            \"--telescope\",\n",
    "            telescope.name,\n",
    "            \"--site-lon\",\n",
    "            \"{}\".format(telescope.site.earthloc.lon.to_value(u.degree)),\n",
    "            \"--site-lat\",\n",
    "            \"{}\".format(telescope.site.earthloc.lat.to_value(u.degree)),\n",
    "            \"--site-alt\",\n",
    "            \"{}\".format(telescope.site.earthloc.height.to_value(u.meter)),\n",
    "            \"--patch\",\n",
    "            \"small_patch,1,40,-40,44,-44\",\n",
    "            \"--start\",\n",
    "            \"2020-01-01 00:00:00\",\n",
    "            \"--stop\",\n",
    "            \"2020-01-01 02:00:00\",\n",
    "            \"--out\",\n",
    "            sch_file,\n",
    "        ]\n",
    "    )\n",
    "    schedule = toast.schedule.GroundSchedule()\n",
    "    schedule.read(sch_file)\n",
    "    if out_dir is None:\n",
    "        shutil.rmtree(tdir)\n",
    "if world is not None:\n",
    "    schedule = world.bcast(schedule, root=0)"
   ]
  },
  {
   "cell_type": "markdown",
   "metadata": {},
   "source": [
    "Now we use this schedule to create data from our fake observing"
   ]
  },
  {
   "cell_type": "code",
   "execution_count": null,
   "metadata": {},
   "outputs": [],
   "source": []
  },
  {
   "cell_type": "code",
   "execution_count": null,
   "metadata": {},
   "outputs": [],
   "source": []
  },
  {
   "cell_type": "code",
   "execution_count": null,
   "metadata": {},
   "outputs": [],
   "source": []
  }
 ],
 "metadata": {
  "kernelspec": {
   "display_name": "Python 3 (ipykernel)",
   "language": "python",
   "name": "python3"
  },
  "language_info": {
   "codemirror_mode": {
    "name": "ipython",
    "version": 3
   },
   "file_extension": ".py",
   "mimetype": "text/x-python",
   "name": "python",
   "nbconvert_exporter": "python",
   "pygments_lexer": "ipython3",
   "version": "3.12.9"
  }
 },
 "nbformat": 4,
 "nbformat_minor": 4
}
