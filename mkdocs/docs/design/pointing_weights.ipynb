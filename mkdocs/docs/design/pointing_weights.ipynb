{
 "cells": [
  {
   "cell_type": "markdown",
   "id": "0",
   "metadata": {},
   "source": [
    "# Pointing Matrix"
   ]
  },
  {
   "cell_type": "code",
   "execution_count": null,
   "id": "1",
   "metadata": {},
   "outputs": [],
   "source": [
    "%matplotlib inline\n",
    "%config InlineBackend.figure_format = \"retina\"\n",
    "import matplotlib.pyplot as plt\n",
    "import numpy as np\n",
    "import seaborn as sns\n",
    "sns.set()\n",
    "plt.rcParams['figure.figsize'] = (10.0, 6.0)"
   ]
  },
  {
   "cell_type": "code",
   "execution_count": null,
   "id": "2",
   "metadata": {},
   "outputs": [],
   "source": [
    "import sympy as sym\n",
    "from sympy.vector import CoordSys3D\n",
    "\n",
    "sym.init_printing()"
   ]
  },
  {
   "cell_type": "markdown",
   "id": "3",
   "metadata": {},
   "source": [
    "## Background\n",
    "\n",
    "The \"Pointing Matrix\" in TOAST is represented by two types of operations.  The first is the mapping from geometric detector quaternion pointing to a pixelized representation of the sky.  The second is the model of the detector response to incoming polarized light.  This model can be expressed as the application of Mueller matrices representing optical elements in the system.  The incoming light can be expressed as a vector of Stokes parameters I, Q, U, and V.\n",
    "\n",
    "The Stokes parameters are defined with respect to the local meridian at the detector line of sight.  In the TOAST formalism, the detector frame has the Z axis pointing along the detector line of sight and the X axis aligned with the direction of maximum polarization response.  For this exercise, we will use the COSMO convention for the Stokes parameters, since it conveniently also has the Z axis along the line of sight.  The final result is easy to swap between COSMO / IAU simply by changing the sign of the U Stokes parameter.  In some scenarios, it can be convenient to look at the various angles from the perspective of the instrument \"looking out\" at the sky (with the detector Z axis going \"into the page\").  In other cases it makes more sense to visualize the situation \"looking in\" from the sky.  The figures below clearly label which case is being displayed.\n",
    "\n",
    "![COSMO_Conventions](pointing_weights_figs/COSMO_Pol_Conventions_v3.png)"
   ]
  },
  {
   "cell_type": "markdown",
   "id": "4",
   "metadata": {},
   "source": [
    "### Definitions\n",
    "\n",
    "We will use $alpha$ to represent the angle of right-handed rotation from the meridian to the detector polarization orientation (the detector frame X axis) about the line of sight (detector Z axis).  We use $omega$ to represent the right-handed angle of rotation, about the line of sight, from the meridian to a direction parallel to the HWP fast axis.  The cross-polar leakage of the linearly polarized detector is $epsilon$.  To visually simplify things, we define the polarization coefficient: \n",
    "\n",
    "$$\n",
    "C = \\frac{1 - \\epsilon}{1 + \\epsilon}\n",
    "$$\n",
    "\n",
    "And note that there is a factor of $1/2$ that can be included in an overall calibration factor in the resulting measured output power."
   ]
  },
  {
   "cell_type": "code",
   "execution_count": null,
   "id": "5",
   "metadata": {},
   "outputs": [],
   "source": [
    "alpha = sym.Symbol(r\"\\alpha\")\n",
    "omega = sym.Symbol(r\"\\omega\")\n",
    "epsilon = sym.Symbol(r\"\\epsilon\")\n",
    "C = sym.Symbol(\"C\")\n",
    "alpha, omega, epsilon, C"
   ]
  },
  {
   "cell_type": "markdown",
   "id": "6",
   "metadata": {},
   "source": [
    "## Mueller Matrix Representation\n",
    "\n",
    "Assume we have an input Stokes vector:\n",
    "\n",
    "$$\n",
    "\\vec{S}_{in} = \\left[\n",
    "\\begin{array}{c}\n",
    "I_{in}\\\\\n",
    "Q_{in}\\\\ \n",
    "U_{in}\\\\ \n",
    "V_{in}\n",
    "\\end{array}\n",
    "\\right]\n",
    "$$\n",
    "\n",
    "In the case of no HWP and just a partial linear polarizer followed by a total power measurement, the resulting measured power is:\n",
    "\n",
    "$$\n",
    "P_{out} = \\mathbf{T}_{power} \\cdot \\mathbf{M}_{det} \\;\\vec{S}_{in}\n",
    "$$\n",
    "\n",
    "Where the total power measurement $\\mathbf{T}$ is simply the sum of the top row of the final Mueller matrix.  If we introduce a rotating HWP followed by the fixed linear polarizer and then a total power measurement we get:\n",
    "\n",
    "$$\n",
    "P_{out} = \\mathbf{T}_{power} \\cdot \\mathbf{M}_{det} \\cdot \\mathbf{M}_{HWP}(t) \\;\\vec{S}_{in}\n",
    "$$\n",
    "\n",
    "The detector and HWP Mueller matrices include a rotational coordinate transform:\n",
    "\n",
    "$$\n",
    "\\mathbf{M}_{HWP} = \\mathbf{R}_{HWP}^{-1}\\; \\mathbf{M}_{Fixed\\ HWP}\\; \\mathbf{R}_{HWP}\n",
    "$$\n",
    "\n",
    "Where the rotation matrix transforms from the measurement frame to the local coordinates of the HWP.  Similarly the detector Mueller matrix is an (imperfect) linear polarizer with some rotation from the measurement frame:\n",
    "\n",
    "$$\n",
    "\\mathbf{M}_{det} = \\mathbf{R}_{det}^{-1}\\; \\mathbf{M}_{Linear\\ Pol}\\; \\mathbf{R}_{det}\n",
    "$$"
   ]
  },
  {
   "cell_type": "markdown",
   "id": "7",
   "metadata": {},
   "source": [
    "### HWP Matrix\n",
    "\n",
    "The ideal, local HWP has Mueller matrix of:"
   ]
  },
  {
   "cell_type": "code",
   "execution_count": null,
   "id": "8",
   "metadata": {},
   "outputs": [],
   "source": [
    "# Ideal HWP in local frame:\n",
    "Lhwp = sym.Matrix([\n",
    "    [1, 0, 0, 0],\n",
    "    [0, 1, 0, 0],\n",
    "    [0, 0, -1, 0],\n",
    "    [0, 0, 0, -1],\n",
    "])\n",
    "Lhwp"
   ]
  },
  {
   "cell_type": "markdown",
   "id": "9",
   "metadata": {},
   "source": [
    "and the rotation matrix from the coordinate frame to the local frame is:"
   ]
  },
  {
   "cell_type": "code",
   "execution_count": null,
   "id": "10",
   "metadata": {},
   "outputs": [],
   "source": [
    "Rhwp = sym.Matrix([\n",
    "    [1, 0, 0, 0],\n",
    "    [0, sym.cos(2 * omega), -sym.sin(2 * omega), 0],\n",
    "    [0, sym.sin(2 * omega), sym.cos(2 * omega), 0],\n",
    "    [0, 0, 0, 1],\n",
    "])\n",
    "Rhwp"
   ]
  },
  {
   "cell_type": "markdown",
   "id": "11",
   "metadata": {},
   "source": [
    "For simplifying the algebra below, we use $b = 2\\omega$.  The inverse coordinate transform is a result of swapping $\\omega$ for $-\\omega$."
   ]
  },
  {
   "cell_type": "code",
   "execution_count": null,
   "id": "12",
   "metadata": {},
   "outputs": [],
   "source": [
    "b = sym.Symbol(r\"b\")\n",
    "\n",
    "Rhwp = sym.Matrix([\n",
    "    [1, 0, 0, 0],\n",
    "    [0, sym.cos(b), -sym.sin(b), 0],\n",
    "    [0, sym.sin(b), sym.cos(b), 0],\n",
    "    [0, 0, 0, 1],\n",
    "])\n",
    "Rhwp"
   ]
  },
  {
   "cell_type": "code",
   "execution_count": null,
   "id": "13",
   "metadata": {},
   "outputs": [],
   "source": [
    "Rhwpinv = sym.Matrix([\n",
    "    [1, 0, 0, 0],\n",
    "    [0, sym.cos(b), sym.sin(b), 0],\n",
    "    [0, -sym.sin(b), sym.cos(b), 0],\n",
    "    [0, 0, 0, 1],\n",
    "])\n",
    "Rhwpinv"
   ]
  },
  {
   "cell_type": "markdown",
   "id": "14",
   "metadata": {},
   "source": [
    "And then the final HWP Mueller matrix becomes:"
   ]
  },
  {
   "cell_type": "code",
   "execution_count": null,
   "id": "15",
   "metadata": {},
   "outputs": [],
   "source": [
    "Mhwp = sym.simplify(Rhwpinv * Lhwp * Rhwp)\n",
    "Mhwp"
   ]
  },
  {
   "cell_type": "markdown",
   "id": "16",
   "metadata": {},
   "source": [
    "### Linearly Polarized Detector\n",
    "\n",
    "A (partial) linear polarizer has the local Mueller matrix:"
   ]
  },
  {
   "cell_type": "code",
   "execution_count": null,
   "id": "17",
   "metadata": {},
   "outputs": [],
   "source": [
    "Ldet = sym.Matrix([\n",
    "    [1, C, 0, 0],\n",
    "    [C, 1, 0, 0],\n",
    "    [0, 0, 0, 0],\n",
    "    [0, 0, 0, 0],\n",
    "])\n",
    "Ldet"
   ]
  },
  {
   "cell_type": "markdown",
   "id": "18",
   "metadata": {},
   "source": [
    "The Mueller matrix which rotates a Stokes vector in a right-handed counter-clockwise sense from the coordinate frame to the local frame is again given by:"
   ]
  },
  {
   "cell_type": "code",
   "execution_count": null,
   "id": "19",
   "metadata": {},
   "outputs": [],
   "source": [
    "Rdet = sym.Matrix([\n",
    "    [1, 0, 0, 0],\n",
    "    [0, sym.cos(2 * alpha), -sym.sin(2 * alpha), 0],\n",
    "    [0, sym.sin(2 * alpha), sym.cos(2 * alpha), 0],\n",
    "    [0, 0, 0, 1],\n",
    "])\n",
    "Rdet"
   ]
  },
  {
   "cell_type": "markdown",
   "id": "20",
   "metadata": {},
   "source": [
    "For simplifying the algebra below, we use $a = 2\\alpha$."
   ]
  },
  {
   "cell_type": "code",
   "execution_count": null,
   "id": "21",
   "metadata": {},
   "outputs": [],
   "source": [
    "a = sym.Symbol(r\"a\")\n",
    "Rdet = sym.Matrix([\n",
    "    [1, 0, 0, 0],\n",
    "    [0, sym.cos(a), -sym.sin(a), 0],\n",
    "    [0, sym.sin(a), sym.cos(a), 0],\n",
    "    [0, 0, 0, 1],\n",
    "])\n",
    "Rdet"
   ]
  },
  {
   "cell_type": "markdown",
   "id": "22",
   "metadata": {},
   "source": [
    "The inverse transform can be obtained by evaluating this at $-\\alpha$"
   ]
  },
  {
   "cell_type": "code",
   "execution_count": null,
   "id": "23",
   "metadata": {},
   "outputs": [],
   "source": [
    "Rdetinv = sym.Matrix([\n",
    "    [1, 0, 0, 0],\n",
    "    [0, sym.cos(a), sym.sin(a), 0],\n",
    "    [0, -sym.sin(a), sym.cos(a), 0],\n",
    "    [0, 0, 0, 1],\n",
    "])\n",
    "Rdetinv"
   ]
  },
  {
   "cell_type": "markdown",
   "id": "24",
   "metadata": {},
   "source": [
    "The final detector Mueller matrix in the measurement frame is then:"
   ]
  },
  {
   "cell_type": "code",
   "execution_count": null,
   "id": "25",
   "metadata": {},
   "outputs": [],
   "source": [
    "Mdet = sym.simplify(Rdetinv * Ldet * Rdet)\n",
    "Mdet"
   ]
  },
  {
   "cell_type": "markdown",
   "id": "26",
   "metadata": {},
   "source": [
    "### Final Expression - Without HWP\n",
    "\n",
    "The optical response without a HWP is just the linear polarized detector result above.  The output Stokes weights are:"
   ]
  },
  {
   "cell_type": "code",
   "execution_count": null,
   "id": "27",
   "metadata": {},
   "outputs": [],
   "source": [
    "s_I = Mdet[0, 0]\n",
    "s_I"
   ]
  },
  {
   "cell_type": "code",
   "execution_count": null,
   "id": "28",
   "metadata": {},
   "outputs": [],
   "source": [
    "s_Q = Mdet[0, 1]\n",
    "s_Q"
   ]
  },
  {
   "cell_type": "code",
   "execution_count": null,
   "id": "29",
   "metadata": {},
   "outputs": [],
   "source": [
    "s_U = Mdet[0, 2]\n",
    "s_U"
   ]
  },
  {
   "cell_type": "markdown",
   "id": "30",
   "metadata": {},
   "source": [
    "So the final measured power is:\n",
    "\n",
    "$$\n",
    "P_{out} = \\frac{1}{2} \\left[\n",
    "I_{in} + \\frac{1 - \\epsilon}{1 + \\epsilon} \\left[ Q_{in} \\cos \\left( 2 \\alpha  \\right)\n",
    "+ U_{in} \\sin \\left( 2 \\alpha  \\right) \\right]\n",
    "\\right]\\qquad (COSMO)\n",
    "$$\n",
    "\n",
    "OR\n",
    "\n",
    "$$\n",
    "P_{out} = \\frac{1}{2} \\left[\n",
    "I_{in} + \\frac{1 - \\epsilon}{1 + \\epsilon} \\left[ Q_{in} \\cos \\left( 2 \\alpha  \\right)\n",
    "- U_{in} \\sin \\left( 2 \\alpha \\right) \\right]\n",
    "\\right]\\qquad (IAU)\n",
    "$$"
   ]
  },
  {
   "cell_type": "markdown",
   "id": "31",
   "metadata": {},
   "source": [
    "Consider the trivial case where the focalplane coordinates are aligned with the coordinate axes, so that $\\alpha$ is exactly the orientation of the detector in the coordinate frame.  For several different $\\alpha$ values (in COSMO convention) we have:"
   ]
  },
  {
   "cell_type": "markdown",
   "id": "32",
   "metadata": {},
   "source": [
    "$$\n",
    "\\begin{aligned}\n",
    "Q_{weight}(\\alpha = 0) = & \\;1 \\\\\n",
    "U_{weight}(\\alpha = 0) = & \\;0\n",
    "\\end{aligned}\n",
    "$$\n",
    "\n",
    "$$\n",
    "\\begin{aligned}\n",
    "Q_{weight}(\\alpha = 45) = & \\;0 \\\\\n",
    "U_{weight}(\\alpha = 45) = & \\;1\n",
    "\\end{aligned}\n",
    "$$\n",
    "\n",
    "$$\n",
    "\\begin{aligned}\n",
    "Q_{weight}(\\alpha = 90) = & \\;-1 \\\\\n",
    "U_{weight}(\\alpha = 90) = & \\;0\n",
    "\\end{aligned}\n",
    "$$"
   ]
  },
  {
   "cell_type": "markdown",
   "id": "33",
   "metadata": {},
   "source": [
    "### Final Expression - Including HWP\n",
    "\n",
    "The combined optical response of the HWP and detector matrices are then:"
   ]
  },
  {
   "cell_type": "code",
   "execution_count": null,
   "id": "34",
   "metadata": {},
   "outputs": [],
   "source": [
    "Mopt = sym.simplify(Mdet * Mhwp)\n",
    "Mopt"
   ]
  },
  {
   "cell_type": "markdown",
   "id": "35",
   "metadata": {},
   "source": [
    "And the output Stokes weights are:"
   ]
  },
  {
   "cell_type": "code",
   "execution_count": null,
   "id": "36",
   "metadata": {},
   "outputs": [],
   "source": [
    "s_I = Mopt[0, 0]\n",
    "s_I"
   ]
  },
  {
   "cell_type": "code",
   "execution_count": null,
   "id": "37",
   "metadata": {},
   "outputs": [],
   "source": [
    "s_Q = Mopt[0, 1]\n",
    "s_Q"
   ]
  },
  {
   "cell_type": "code",
   "execution_count": null,
   "id": "38",
   "metadata": {},
   "outputs": [],
   "source": [
    "s_U = Mopt[0, 2]\n",
    "s_U"
   ]
  },
  {
   "cell_type": "markdown",
   "id": "39",
   "metadata": {},
   "source": [
    "So the final measured power is:\n",
    "\n",
    "$$\n",
    "P_{out} = \\frac{1}{2} \\left[\n",
    "I_{in} + \\frac{1 - \\epsilon}{1 + \\epsilon} \\left[ Q_{in} \\cos \\left( 2(\\alpha - 2\\omega) \\right)\n",
    "- U_{in} \\sin \\left( 2(\\alpha - 2\\omega) \\right) \\right]\n",
    "\\right]\\qquad (COSMO)\n",
    "$$\n",
    "\n",
    "OR\n",
    "\n",
    "$$\n",
    "P_{out} = \\frac{1}{2} \\left[\n",
    "I_{in} + \\frac{1 - \\epsilon}{1 + \\epsilon} \\left[ Q_{in} \\cos \\left( 2(\\alpha - 2\\omega) \\right)\n",
    "+ U_{in} \\sin \\left( 2(\\alpha - 2\\omega) \\right) \\right]\n",
    "\\right]\\qquad (IAU)\n",
    "$$"
   ]
  },
  {
   "cell_type": "markdown",
   "id": "40",
   "metadata": {},
   "source": [
    "Consider the trivial case where the focalplane coordinates are aligned with the coordinate axes, so that $\\alpha$ and $\\omega$ are directly the orientations of the detector and HWP in the coordinate frame.  In that case, consider a fixed HWP aligned with the meridian ($\\omega$ = 0) for several different $\\alpha$ values (in COSMO convention):"
   ]
  },
  {
   "cell_type": "markdown",
   "id": "41",
   "metadata": {},
   "source": [
    "$$\n",
    "\\begin{aligned}\n",
    "Q_{weight}(\\alpha = 0) = & \\;1 \\\\\n",
    "U_{weight}(\\alpha = 0) = & \\;0\n",
    "\\end{aligned}\n",
    "$$\n",
    "\n",
    "$$\n",
    "\\begin{aligned}\n",
    "Q_{weight}(\\alpha = 45) = & \\;0 \\\\\n",
    "U_{weight}(\\alpha = 45) = & \\;-1\n",
    "\\end{aligned}\n",
    "$$\n",
    "\n",
    "$$\n",
    "\\begin{aligned}\n",
    "Q_{weight}(\\alpha = 90) = & \\;-1 \\\\\n",
    "U_{weight}(\\alpha = 90) = & \\;0\n",
    "\\end{aligned}\n",
    "$$\n",
    "\n",
    "Note the sign flip of the U component at 45 degrees, compared to the case without a HWP present in the optical path."
   ]
  },
  {
   "cell_type": "markdown",
   "id": "42",
   "metadata": {},
   "source": [
    "## Detector Response in TOAST\n",
    "\n",
    "Our starting point is a detector quaternion at each sample that rotates the coordinate frame on the sky to the detector frame, with the Z axis along the line of sight and the X axis along the polarization sensitive direction.  In the detector frame, the vector along the meridian is offset by an angle of $-\\alpha$.  Recall that our detector coordinate frame is offset from the overall focalplane frame.  The detector frame is also rotated by an angle ${\\gamma}_{D}$.  The HWP angle (${\\gamma}_{H}(t)$) in the detector frame is time varying and measured from the same reference point:\n",
    "\n",
    "![Detector Frame](pointing_weights_figs/det_frame.png)\n",
    "\n",
    "For the case with no HWP, we just need the angle $\\alpha$.  If we do have a HWP, then we can use the figure above to express $\\omega$ in terms of our known quantities.  From this we can see that $\\omega = \\alpha + {\\gamma}_{H}(t) - {\\gamma}_{D}$.  Substituting this we get (using COSMO convention, which is the default):\n",
    "\n",
    "$$\n",
    "P_{out} = \\frac{1}{2} \\left[\n",
    "I_{in} + \\frac{1 - \\epsilon}{1 + \\epsilon} \\left[ Q_{in} \\cos \\left( 2 \\left( \\alpha - 2 \\left[ \\alpha + {\\gamma}_{H}(t) - {\\gamma}_{D} \\right] \\right) \\right)\n",
    "- U_{in} \\sin \\left( 2 \\left( \\alpha - 2 \\left[ \\alpha + {\\gamma}_{H}(t) - {\\gamma}_{D} \\right] \\right) \\right)\n",
    "\\right] \\right]\n",
    "$$\n",
    "\n",
    "Expanding:\n",
    "\n",
    "$$\n",
    "P_{out} = \\frac{1}{2} \\left[\n",
    "I_{in} + \\frac{1 - \\epsilon}{1 + \\epsilon} \\left[ \n",
    "Q_{in} \\cos \\left( 2 \\left( \\alpha - 2 \\alpha - 2 {\\gamma}_{H}(t) + 2 {\\gamma}_{D} \\right) \\right)\n",
    "- U_{in} \\sin \\left( 2 \\left( \\alpha - 2 \\alpha - 2 {\\gamma}_{H}(t) + 2 {\\gamma}_{D} \\right) \\right)\n",
    "\\right]\n",
    "\\right]\n",
    "$$\n",
    "\n",
    "$$\n",
    "P_{out} = \\frac{1}{2} \\left[\n",
    "I_{in} + \\frac{1 - \\epsilon}{1 + \\epsilon} \\left[ \n",
    "Q_{in} \\cos \\left( 2 \\left( - \\alpha - 2 {\\gamma}_{H}(t) + 2 {\\gamma}_{D} \\right) \\right)\n",
    "- U_{in} \\sin \\left( 2 \\left( - \\alpha - 2 {\\gamma}_{H}(t) + 2 {\\gamma}_{D} \\right) \\right)\n",
    "\\right] \n",
    "\\right]\n",
    "$$\n",
    "\n",
    "$$\n",
    "P_{out} = \\frac{1}{2} \\left[\n",
    "I_{in} + \\frac{1 - \\epsilon}{1 + \\epsilon} \\left[ \n",
    "Q_{in} \\cos \\left( 2 \\left[ 2 \\left( {\\gamma}_{D} - {\\gamma}_{H}(t) \\right) - \\alpha \\right] \\right) \n",
    "- U_{in} \\sin \\left( 2 \\left[ 2 \\left( {\\gamma}_{D} - {\\gamma}_{H}(t) \\right) - \\alpha \\right] \\right)\n",
    "\\right]\n",
    "\\right]\n",
    "$$\n",
    "\n",
    "This gives us our total power measurement in terms of a fixed, per-detector offset, the HWP angle in the focalplane frame, and the orientation of the detector frame (the $\\alpha$ angle) at each sample."
   ]
  },
  {
   "cell_type": "markdown",
   "id": "43",
   "metadata": {},
   "source": [
    "### Example\n",
    "\n",
    "As a sanity check, consider a scenario where the focalplane X axis is aligned with the coordinate system \"South\" direction in the figure above.  Also choose ${\\gamma}_{D}$ to be 45 degrees.  In this case, $\\alpha == {\\gamma}_{D}$ and $2\\alpha = 90^{\\circ}$.\n",
    "\n",
    "In the case of no HWP and using COSMO convention, we have:\n",
    "\n",
    "$$\n",
    "\\begin{aligned}\n",
    "Q_{weight}(45) = & \\;\\cos \\left( 2 \\alpha \\right) \\\\\n",
    "Q_{weight}(45) = & \\;0\n",
    "\\end{aligned}\n",
    "$$\n",
    "\n",
    "$$\n",
    "\\begin{aligned}\n",
    "U_{weight}(45) = & \\;\\sin \\left( 2 \\alpha \\right) \\\\\n",
    "U_{weight}(45) = & \\;1\n",
    "\\end{aligned}\n",
    "$$\n",
    "\n",
    "The Stokes Q weight is zero and the Stokes U weight is +1, which makes sense since the detector is aligned with the positive U axis.  In the case of a rotating HWP, our Q weight is:\n",
    "\n",
    "$$\n",
    "\\begin{aligned}\n",
    "Q_{weight} = & \\;\\cos \\left( 2 \\left[ 2 \\left( {\\gamma}_{D} - {\\gamma}_{H}(t) \\right) - \\alpha \\right] \\right) \\\\\n",
    "& \\;\\text{(substitute ${\\gamma}_{D}=\\alpha$)} \\\\\n",
    "Q_{weight} = & \\;\\cos \\left( 2 \\left[ 2 \\alpha - 2 {\\gamma}_{H}(t) - \\alpha \\right] \\right) \\\\\n",
    "Q_{weight} = & \\;\\cos \\left( 2 \\alpha - 4 {\\gamma}_{H}(t) \\right)\n",
    "\\end{aligned}\n",
    "$$\n",
    "\n",
    "and the U weight is:\n",
    "\n",
    "$$\n",
    "\\begin{aligned}\n",
    "U_{weight} = & \\; - \\sin \\left( 2 \\left[ 2 \\left( {\\gamma}_{D} - {\\gamma}_{H}(t) \\right) - \\alpha \\right] \\right) \\\\\n",
    "& \\;\\text{(substitute ${\\gamma}_{D}=\\alpha$)} \\\\\n",
    "U_{weight} = & \\; - \\sin \\left( 2 \\left[ 2 \\alpha - 2 {\\gamma}_{H}(t) - \\alpha \\right] \\right) \\\\\n",
    "U_{weight} = & \\; - \\sin \\left( 2 \\alpha - 4 {\\gamma}_{H}(t) \\right)\n",
    "\\end{aligned}\n",
    "$$\n",
    "\n",
    "Consider what happens when the fast axis of the HWP is aligned with the detector orientation (${\\gamma}_{H} = \\alpha = {\\gamma}_{D} = 45^{\\circ}$).  In that scenario we have:\n",
    "\n",
    "$$\n",
    "\\begin{aligned}\n",
    "Q_{weight}(45,HWP) = & \\;\\cos \\left( - 2 \\alpha \\right)\\\\\n",
    "Q_{weight}(45,HWP) = & \\;0\n",
    "\\end{aligned}\n",
    "$$\n",
    "\n",
    "$$\n",
    "\\begin{aligned}\n",
    "U_{weight}(45,HWP) = & \\; - \\sin \\left( - 2 \\alpha \\right)\\\\\n",
    "U_{weight}(45,HWP) = & \\;1\n",
    "\\end{aligned}\n",
    "$$"
   ]
  },
  {
   "cell_type": "markdown",
   "id": "44",
   "metadata": {},
   "source": [
    "### Implementation\n",
    "\n",
    "Given the previous equations, for both the HWP and non-HWP cases we need to use our detector pointing to determine the $\\alpha$ angle at each sample.  We can use our detector quaternions to rotate the sky coordinate axes to the detector frame. The resulting direction (detector Z axis) and orientation (detector X axis / polarization sensitive direction) vectors are:\n",
    "\n",
    "$$\n",
    "\\vec{V}_{direction} = \\vec{V}_{d} = Q_{det} (\\hat{Z}) = V_{dx}\\,\\hat{i} + V_{dy}\\,\\hat{j} + V_{dz}\\,\\hat{k}\n",
    "$$\n",
    "$$\n",
    "\\vec{V}_{orientation} = \\vec{V}_{o} = Q_{det} (\\hat{X}) = V_{ox}\\,\\hat{i} + V_{oy}\\,\\hat{j} + V_{oz}\\,\\hat{k}\n",
    "$$"
   ]
  },
  {
   "cell_type": "code",
   "execution_count": null,
   "id": "45",
   "metadata": {},
   "outputs": [],
   "source": [
    "N = CoordSys3D(\"N\")\n",
    "Vdx = sym.Symbol(\"Vdx\")\n",
    "Vdy = sym.Symbol(\"Vdy\")\n",
    "Vdz = sym.Symbol(\"Vdz\")\n",
    "Vox = sym.Symbol(\"Vox\")\n",
    "Voy = sym.Symbol(\"Voy\")\n",
    "Voz = sym.Symbol(\"Voz\")"
   ]
  },
  {
   "cell_type": "code",
   "execution_count": null,
   "id": "46",
   "metadata": {},
   "outputs": [],
   "source": [
    "Vd = Vdx * N.i + Vdy * N.j + Vdz * N.k\n",
    "Vd"
   ]
  },
  {
   "cell_type": "code",
   "execution_count": null,
   "id": "47",
   "metadata": {},
   "outputs": [],
   "source": [
    "Vo = Vox * N.i + Voy * N.j + Voz * N.k\n",
    "Vo"
   ]
  },
  {
   "cell_type": "markdown",
   "id": "48",
   "metadata": {},
   "source": [
    "Given these, we can construct the vector orthogonal to the detector line of sight ($\\vec{V}_{d}$) which is aligned with the local meridian:\n",
    "\n",
    "$$\n",
    "\\vec{V}_{meridian} = \\vec{V}_{m} = V_{dz}\\cos \\left( {\\tan}^{-1} \\left( \\frac{V_{dy}}{V_{dx}} \\right) \\right)\\;\\hat{i} + V_{dz}\\sin \\left( {\\tan}^{-1} \\left( \\frac{V_{dy}}{V_{dx}} \\right) \\right)\\;\\hat{j} - \\sqrt{1 - V_{dz}^2}\\;\\hat{k}\n",
    "$$"
   ]
  },
  {
   "cell_type": "code",
   "execution_count": null,
   "id": "49",
   "metadata": {},
   "outputs": [],
   "source": [
    "Vmx = sym.Symbol(\"Vmx\")\n",
    "Vmy = sym.Symbol(\"Vmy\")\n",
    "Vmz = sym.Symbol(\"Vmz\")\n",
    "Vm = Vmx * N.i + Vmy * N.j + Vmz * N.k\n",
    "Vm"
   ]
  },
  {
   "cell_type": "markdown",
   "id": "50",
   "metadata": {},
   "source": [
    "This vector is co-planar with the detector X / Y coordinate axes.  The rotation angle from the meridian vector to the detector X axis ($\\vec{V}_{o}$) is the $\\alpha$ angle above, and is given by (using the fact that $\\vec{V}_{d}$ is the normal to the plane):\n",
    "\n",
    "$$\n",
    "\\alpha = {\\tan}^{-1} \\left( \\frac{ \\left( \\vec{V}_{m} \\times \\vec{V}_{o} \\right) \\cdot \\vec{V}_{d}}{\\vec{V}_{m} \\cdot \\vec{V}_{0}} \\right)\n",
    "$$\n",
    "\n",
    "Which in terms of components is:"
   ]
  },
  {
   "cell_type": "code",
   "execution_count": null,
   "id": "51",
   "metadata": {},
   "outputs": [],
   "source": [
    "sym.atan2((Vm.cross(Vo)).dot(Vd), Vm.dot(Vo))"
   ]
  },
  {
   "cell_type": "markdown",
   "id": "52",
   "metadata": {},
   "source": [
    "Pulling out the minus sign and formatting nicely we get:\n",
    "\n",
    "$$\n",
    "\\alpha = {\\tan}^{-1} \\left(\n",
    "  \\frac{\n",
    "    V_{dx} (V_{my} V_{oz} - V_{mz} V_{oy}) - V_{dy} (V_{mx} V_{oz} - V_{mz} V_{ox}) + V_{dz} (V_{mx} V_{oy} - V_{my} V_{ox})\n",
    "  }{\n",
    "    V_{mx} V_{ox} + V_{my} V_{oy} + V_{mz} V_{oz}\n",
    "  }\n",
    "\\right)\n",
    "$$\n",
    "\n",
    "So computing the Stokes weights at each sample involves appling the detector quaternion to two vectors, a few trig functions to get the components of $\\vec{V}_{m}$, and then the calculation of the $\\alpha$ angle."
   ]
  },
  {
   "cell_type": "markdown",
   "id": "53",
   "metadata": {},
   "source": [
    "### Stokes Weights Unit Tests\n",
    "\n",
    "The following plots are generated by the unit tests for different cases of input Stokes parameters and HWP state.  For each case in the following plots:\n",
    "\n",
    "1. The input fake sky has constant I/Q/U values at each pixel, and those are given in the plot subtitle.\n",
    "\n",
    "2. The plot is \"looking out\" from the telescope and the COSMO convention Q/U axes are drawn from this perspective.\n",
    "\n",
    "3. The focalplane frame X axis is parallel to the local coordinate system meridian and pointed \"South\".  In other words, the detector gamma angle is exactly equal to the \"alpha\" angle from the local meridian.\n",
    "\n",
    "4. There are 4 detectors at the boresight, and their actual and expected values are given (which should be the same).  I am using a calibration factor of $C = 0.5$, so the total response is $0.5[I + q_{weight} * Q + u_{weight} * U]$.  The q/u weights are defined in this document above and in the code for the cases with / without a HWP.  The cross polar response is set to zero in this test.\n",
    "\n",
    "Each row represents a different HWP state (including no HWP at all).  Each column represents different input map values of $I = 1$, $Q = 1$, $U = 1$, and $I = Q = U = 1$"
   ]
  },
  {
   "cell_type": "markdown",
   "id": "54",
   "metadata": {},
   "source": [
    "![No HWP](pointing_weights_figs/hwp_row_none.png)\n",
    "![HWP 0.0](pointing_weights_figs/hwp_row_0.0.png)\n",
    "![HWP 45.0](pointing_weights_figs/hwp_row_45.0.png)\n",
    "![HWP 90.0](pointing_weights_figs/hwp_row_90.0.png)"
   ]
  }
 ],
 "metadata": {
  "kernelspec": {
   "display_name": "Python 3 (ipykernel)",
   "language": "python",
   "name": "python3"
  },
  "language_info": {
   "codemirror_mode": {
    "name": "ipython",
    "version": 3
   },
   "file_extension": ".py",
   "mimetype": "text/x-python",
   "name": "python",
   "nbconvert_exporter": "python",
   "pygments_lexer": "ipython3",
   "version": "3.12.9"
  }
 },
 "nbformat": 4,
 "nbformat_minor": 5
}
